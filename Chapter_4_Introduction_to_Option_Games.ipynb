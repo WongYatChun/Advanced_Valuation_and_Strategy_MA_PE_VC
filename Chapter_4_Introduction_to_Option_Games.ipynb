{
 "cells": [
  {
   "cell_type": "markdown",
   "metadata": {},
   "source": [
    "# Chapter 4: Introduction to Options Games"
   ]
  },
  {
   "cell_type": "markdown",
   "metadata": {},
   "source": [
    "## Key Concepts\n",
    "- Identify different types of games\n",
    "- Solve various types of games\n",
    "- Explain the tradeoff between flexibility and commitment\n",
    "- Solve an option game\n",
    "- Evaluate a business decision based on an option game analysis"
   ]
  },
  {
   "cell_type": "markdown",
   "metadata": {},
   "source": [
    "## 1. How to solve any Games"
   ]
  },
  {
   "cell_type": "markdown",
   "metadata": {},
   "source": [
    "**Nash Equilibrium**: Rational outcome where neither player wants to unilaterally change its actions\n",
    "\n",
    "**(Strictly) Dominant Strategy**\" The strategy that always provides greater utility to a the player, no matter what the other player's strategy is\n",
    "\n",
    "**Dominated strategy**: A strategy which doesn’t result in the optimal outcome in any case. \n",
    "\n",
    "\n",
    "**Simulatenous Game**\n",
    "\n",
    "1. Find Dominant Strategies\n",
    "\n",
    "2. Eliminate Dominated Strategies\n",
    "\n",
    "3. Find Nash Equilibrium in Pure Strategies\n",
    "\n",
    "4. Find Nash Equilibrium in Mixed Strategies\n",
    "\n",
    "**Sequential Game**\n",
    "\n",
    "1. Use Backward Induction to solve Sequential Games\n",
    "\n",
    "2. Find a subgame perfect Equilibrium\n",
    "\n",
    "3. Add real options valuation in backward inductions for sequential games under uncertainty."
   ]
  },
  {
   "cell_type": "markdown",
   "metadata": {},
   "source": [
    "## 2. Simultaneous Games"
   ]
  },
  {
   "cell_type": "markdown",
   "metadata": {},
   "source": [
    "## 3. Sequential Games"
   ]
  },
  {
   "cell_type": "markdown",
   "metadata": {},
   "source": [
    "## 4. Game with asymmetric information"
   ]
  },
  {
   "cell_type": "markdown",
   "metadata": {},
   "source": [
    "## 5. Solve an Option Game"
   ]
  }
 ],
 "metadata": {
  "kernelspec": {
   "display_name": "Python 3",
   "language": "python",
   "name": "python3"
  },
  "language_info": {
   "codemirror_mode": {
    "name": "ipython",
    "version": 3
   },
   "file_extension": ".py",
   "mimetype": "text/x-python",
   "name": "python",
   "nbconvert_exporter": "python",
   "pygments_lexer": "ipython3",
   "version": "3.7.5"
  }
 },
 "nbformat": 4,
 "nbformat_minor": 4
}
